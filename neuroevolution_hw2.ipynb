{
 "cells": [
  {
   "cell_type": "markdown",
   "id": "1ce12136",
   "metadata": {
    "id": "1ce12136"
   },
   "source": [
    "# NeuroEvolution - Homework 2 - DENSER-Like Algorithms"
   ]
  },
  {
   "cell_type": "markdown",
   "id": "18f44c8b",
   "metadata": {
    "id": "18f44c8b"
   },
   "source": [
    "## Import Libraries"
   ]
  },
  {
   "cell_type": "code",
   "execution_count": 1,
   "id": "fXTJYPovz09q",
   "metadata": {
    "colab": {
     "base_uri": "https://localhost:8080/"
    },
    "id": "fXTJYPovz09q",
    "outputId": "01191cbb-0088-46f8-e673-41ead5ac1eef"
   },
   "outputs": [],
   "source": [
    "!pip install keras-tuner"
   ]
  },
  {
   "cell_type": "code",
   "execution_count": 2,
   "id": "cae5d030",
   "metadata": {
    "id": "cae5d030"
   },
   "outputs": [],
   "source": [
    "from IPython.display import display, HTML\n",
    "import cv2\n",
    "import os\n",
    "import random\n",
    "import warnings \n",
    "import numpy as np\n",
    "import pandas as pd\n",
    "import seaborn\n",
    "import torch.nn as nn\n",
    "import tensorflow as tf\n",
    "import matplotlib.pyplot as plt\n",
    "import plotly.graph_objects as go\n",
    "from keras.layers import BatchNormalization, Activation\n",
    "from keras.preprocessing.image import ImageDataGenerator\n",
    "from tensorflow.keras.preprocessing.image import ImageDataGenerator\n",
    "from tensorflow.keras.layers import Conv2D, MaxPooling2D, Flatten, Dense, Dropout\n",
    "from tensorflow.keras import datasets, Sequential, layers, models, initializers, regularizers, optimizers, metrics, utils\n",
    "from keras_tuner import RandomSearch\n",
    "from tensorflow.keras.utils import load_img, img_to_array\n",
    "from PIL import ImageFile\n",
    "import tensorflow.keras.utils  as utils\n",
    "from IPython.display import display\n",
    "import pydot\n",
    "from sklearn.model_selection import train_test_split\n",
    "import torch\n",
    "from torch import nn\n",
    "from torchvision import datasets, transforms\n",
    "from torch.utils.data import DataLoader"
   ]
  },
  {
   "cell_type": "code",
   "execution_count": 3,
   "id": "33863ec9",
   "metadata": {
    "colab": {
     "base_uri": "https://localhost:8080/"
    },
    "id": "33863ec9",
    "outputId": "7c7619ed-0aed-4b35-af06-1e554a6bbcd4"
   },
   "outputs": [],
   "source": [
    "# Data transformations for Mnist, Downloading and loading of train and test\n",
    "transform = transforms.Compose([transforms.ToTensor(), transforms.Normalize((0.1307,), (0.3081,))])\n",
    "\n",
    "train_data = datasets.MNIST(root='.', train=True, download=True, transform=transform)\n",
    "train_loader = DataLoader(train_data, batch_size=64, shuffle=True)\n",
    "\n",
    "test_data = datasets.MNIST(root='.', train=False, download=True, transform=transform)\n",
    "test_loader = DataLoader(test_data, batch_size=64, shuffle=True)"
   ]
  },
  {
   "cell_type": "markdown",
   "id": "673cfd58",
   "metadata": {
    "id": "673cfd58"
   },
   "source": [
    "## Definition of the string-based genome"
   ]
  },
  {
   "cell_type": "code",
   "execution_count": 4,
   "id": "2eadddf2",
   "metadata": {
    "id": "2eadddf2"
   },
   "outputs": [],
   "source": [
    "#Defining a string-based representation for the networks (the genotype)\n",
    "layers_and_activations = [\n",
    "    ('Linear', [('number_of_features', 1, 512), ('bias', 0.0, 1.0)]),\n",
    "    ('BatchNorm1d', [('num_features', 1, 512),('eps', 1e-5, 1e-2), ('momentum', 0.1, 0.99)]),\n",
    "    ('LayerNorm', [('normalized_shape', 1, 512), ('eps', 1e-5, 1e-2)]),\n",
    "    ('Dropout', [('p', 0.0, 1.0)]),\n",
    "    ('AlphaDropout', [('p', 0.0, 1.0)]),\n",
    "    ('Activation', ['Sigmoid', 'ReLU', 'PReLU', 'ELU', 'SELU', 'GELU', 'CELU', 'SiLU']),\n",
    "]\n",
    "\n",
    "\n",
    "def select_random_params(layer_tuple):\n",
    "    \"\"\"\n",
    "    Selects random parameters within the provided range for a given layer.\n",
    "    \"\"\"\n",
    "    layer_name, param_list = layer_tuple\n",
    "    random_params = []\n",
    "\n",
    "    if layer_name == 'Activation':\n",
    "        random_params.append(('function', random.choice(param_list)))\n",
    "    else:\n",
    "        for param_tuple in param_list:\n",
    "            if isinstance(param_tuple[1], int):  \n",
    "                random_value = random.randint(param_tuple[1], param_tuple[2])\n",
    "            else:  \n",
    "                random_value = random.uniform(param_tuple[1], param_tuple[2])\n",
    "                random_value = round(random_value, 6)  \n",
    "\n",
    "            random_params.append((param_tuple[0], random_value))\n",
    "\n",
    "    return layer_name, random_params"
   ]
  },
  {
   "cell_type": "markdown",
   "id": "273f5c65",
   "metadata": {
    "id": "273f5c65"
   },
   "source": [
    "## Defining a network class that is able to parse those instructions and build a functional pytorch network structure (the phenotype)."
   ]
  },
  {
   "cell_type": "code",
   "execution_count": 5,
   "id": "0a99de97",
   "metadata": {
    "id": "0a99de97"
   },
   "outputs": [],
   "source": [
    "#Each network needs to have at least 1 layer and a maximum 50 layers. This choice\n",
    "#needs to be made at random when generating the genotype.\n",
    "\n",
    "\n",
    "class DeepNetwork:\n",
    "    def __init__(self, genotype, phenotype):\n",
    "        self.genotype = genotype\n",
    "        self.phenotype = phenotype\n",
    "    \n",
    "    def set_genotype(self, genotype_value):\n",
    "        self.genotype = genotype_value\n",
    "\n",
    "    def set_phenotype(self, phenotype_value):\n",
    "        self.phenotype = phenotype_value\n",
    "    \n",
    "    def generate_random_genotype(self, input_features, output_features):\n",
    "        model_spec = []\n",
    "\n",
    "        # Input layer\n",
    "        layer_name, layer_params = select_random_params(layers_and_activations[0])\n",
    "        layer_params_dict = dict(layer_params) \n",
    "        last_out_features = layer_params_dict['number_of_features']\n",
    "        model_spec.append(('Linear', {'in_features': input_features, 'out_features': last_out_features}))\n",
    "\n",
    "        # Hidden layers\n",
    "        for i in range(random.randint(1, 48)):  # Choose a random number of layers to add ---- 48+2(2 = input+outpu)=50\n",
    "            layer_choice = random.choice(layers_and_activations)\n",
    "            layer_name, layer_params = select_random_params(layer_choice)\n",
    "            layer_params_dict = dict(layer_params)\n",
    "    \n",
    "            if layer_name == 'Linear':\n",
    "                current_in_features = last_out_features  \n",
    "                last_out_features = layer_params_dict['number_of_features']  \n",
    "                layer_params_dict = {'in_features': current_in_features, 'out_features': last_out_features}\n",
    "            elif layer_name in ['BatchNorm1d']:\n",
    "                layer_params_dict = {'num_features': last_out_features}\n",
    "            elif layer_name in ['LayerNorm']:\n",
    "                layer_params_dict = {'normalized_shape': last_out_features}\n",
    "            model_spec.append((layer_name, layer_params_dict))\n",
    "    \n",
    "        # Output layer\n",
    "        model_spec.append(('Linear', {'in_features': last_out_features, 'out_features': output_features}))\n",
    "        self.genotype = model_spec\n",
    "    \n",
    "        return model_spec\n",
    "\n",
    "    def genotype_to_phenotype(self, genotype):\n",
    "        model = nn.Sequential()\n",
    "\n",
    "        for i, (layer_name, layer_params) in enumerate(genotype):\n",
    "            if layer_name == 'Activation':\n",
    "                activation_function = getattr(nn, layer_params['function'])()\n",
    "                model.add_module(f'Activation{i}', activation_function)\n",
    "            else:\n",
    "                layer = getattr(nn, layer_name)(**layer_params)\n",
    "                model.add_module(f'{layer_name}{i}', layer)\n",
    "        self.phenotype = model\n",
    "        return model\n",
    "\n",
    "\n",
    "input_size = 28*28"
   ]
  },
  {
   "cell_type": "markdown",
   "id": "c5ae1d35",
   "metadata": {
    "id": "c5ae1d35"
   },
   "source": [
    "## Defining a string-based representation for the optimizer."
   ]
  },
  {
   "cell_type": "code",
   "execution_count": 6,
   "id": "888da8bf",
   "metadata": {
    "colab": {
     "base_uri": "https://localhost:8080/"
    },
    "id": "888da8bf",
    "outputId": "c2924d66-259a-4bac-f9c2-5bbfb50a0add"
   },
   "outputs": [
    {
     "name": "stdout",
     "output_type": "stream",
     "text": [
      "('Adam', [('lr', 0.023056), ('betas', (0.9949108781050736, 0.832511345056891))])\n",
      "('AdamW', [('lr', 0.001052), ('betas', (0.9959042880687471, 0.8718309991252355)), ('weight_decay', 0.000298)])\n",
      "('Adadelta', [('lr', 0.085064), ('rho', 0.9030256092482734)])\n",
      "('NAdam', [('lr', 0.006547), ('betas', (0.936450026057432, 0.8059079656736282)), ('momentum_decay', 0.004030604160724907)])\n",
      "('SGD', [('lr', 0.002572), ('momentum', 0.7520184063410011), ('nesterov', True)])\n"
     ]
    }
   ],
   "source": [
    "#Defining a string-based representation for the networks (the genotype)\n",
    "optimizers = [\n",
    "    ('Adam', [('lr', -3, -1), ('betas', (0.9, 0.999), (0.8, 0.99))]),\n",
    "    ('AdamW', [('lr', -3, -1), ('betas', (0.9, 0.999), (0.8, 0.99)), ('weight_decay', -4, -1)]),\n",
    "    ('Adadelta', [('lr', -3, -1), ('rho', 0.9, 0.99)]),\n",
    "    ('NAdam', [('lr', -3, -1), ('betas', (0.9, 0.999), (0.8, 0.99)), ('momentum_decay', 0.003, 0.005)]),\n",
    "    ('SGD', [('lr', -3, -1), ('momentum', 0.5, 0.99), ('nesterov', False, True)]),\n",
    "]\n",
    "\n",
    "\n",
    "def select_random_params_op(optimizer_tuple):\n",
    "    \"\"\"\n",
    "    Selects random parameters within the provided range for a given optimizer.\n",
    "    \"\"\"\n",
    "    optimizer_name, param_list = optimizer_tuple\n",
    "    random_params = []\n",
    "\n",
    "    for param_tuple in param_list:\n",
    "        if param_tuple[0] == 'betas':  # the betas parameter is a tuple\n",
    "            beta1 = random.uniform(param_tuple[1][0], param_tuple[1][1])\n",
    "            beta2 = random.uniform(param_tuple[2][0], param_tuple[2][1])\n",
    "            random_value = (beta1, beta2)\n",
    "        elif param_tuple[0] == 'nesterov':  # boolean parameter\n",
    "            random_value = random.choice([param_tuple[1], param_tuple[2]])\n",
    "        elif param_tuple[0] == 'rho' or param_tuple[0] == 'momentum' or param_tuple[0] == 'momentum_decay':  # boolean parameter\n",
    "            random_value = random.uniform(param_tuple[1], param_tuple[2])\n",
    "        else:  # float parameter\n",
    "            random_value = 10 ** random.uniform(param_tuple[1], param_tuple[2])\n",
    "            random_value = round(random_value, 6)  # rounding to keep the number manageable\n",
    "\n",
    "        random_params.append((param_tuple[0], random_value))\n",
    "\n",
    "    return optimizer_name, random_params\n",
    "\n",
    "# To test the functions\n",
    "for optimizer in optimizers:\n",
    "    print(f\"{select_random_params_op(optimizer)}\")"
   ]
  },
  {
   "cell_type": "markdown",
   "id": "6211dd29",
   "metadata": {
    "id": "6211dd29"
   },
   "source": [
    "## Defining a way to parse those instructions and build and functional pytorch optimizer."
   ]
  },
  {
   "cell_type": "code",
   "execution_count": 7,
   "id": "cf73e56b",
   "metadata": {
    "id": "cf73e56b"
   },
   "outputs": [],
   "source": [
    "class DeepOptimizer:\n",
    "    def __init__(self, genotype=None, phenotype=None):\n",
    "        self.genotype = genotype\n",
    "        self.phenotype = phenotype\n",
    "    \n",
    "    def set_genotype(self, genotype_value):\n",
    "        self.genotype = genotype_value\n",
    "        \n",
    "    def set_random_genotype(self):\n",
    "        # Choose a random optimizer\n",
    "        optimizer_choice = random.choice(optimizers)\n",
    "\n",
    "        # Get random parameters for the chosen optimizer\n",
    "        optimizer_name, optimizer_params = select_random_params_op(optimizer_choice)\n",
    "        optimizer_params_dict = dict(optimizer_params)  \n",
    "    \n",
    "        self.genotype = (optimizer_name, optimizer_params_dict)\n",
    "\n",
    "    def set_phenotype(self, phenotype_value):\n",
    "        self.phenotype = phenotype_value\n",
    "\n",
    "    def genotype_to_phenotype(self, mp):\n",
    "        optimizer = getattr(torch.optim, self.genotype[0])(mp, **self.genotype[1])\n",
    "        self.phenotype = optimizer"
   ]
  },
  {
   "cell_type": "markdown",
   "id": "ff7525ce",
   "metadata": {
    "id": "ff7525ce"
   },
   "source": [
    "## Defining the 4 genetic operators:\n",
    "1. Network crossover\n",
    "2. Add layer mutation\n",
    "3. Remove layer mutation\n",
    "4. Change optimizer mutation"
   ]
  },
  {
   "cell_type": "code",
   "execution_count": 8,
   "id": "ced24dc1",
   "metadata": {
    "id": "ced24dc1"
   },
   "outputs": [],
   "source": [
    "def removelayer(indiv):\n",
    "    g=indiv.genotype\n",
    "    if len(g) <= 2:\n",
    "        return print(\"genome is too short to have layers removed\")\n",
    "    else:\n",
    "        r1 = random.randint(1, len(g)-2)\n",
    "        it=0\n",
    "        it2=r1+1\n",
    "        while it < r1:\n",
    "            if 'out_features' in g[it][1].keys():\n",
    "                lastout=g[it][1]['out_features']\n",
    "            it+=1\n",
    "        while it2 < len(g):\n",
    "            if (('in_features' in g[it2][1].keys()) or ('num_features' in g[it2][1].keys())):\n",
    "                break\n",
    "            else:\n",
    "                it2+=1\n",
    "        g[it2][1]['in_features']=lastout\n",
    "        g.pop(r1)\n",
    "    \n",
    "    \n",
    "def addlayer(indiv):\n",
    "    g=indiv.genotype\n",
    "    r1 = random.randint(1, len(g)-2)\n",
    "    if len(g) >= 50:\n",
    "        return print(\"genome is too long to have layers added\")\n",
    "    it=0\n",
    "    it2=len(g)-1\n",
    "    while it < r1:\n",
    "        if 'out_features' in g[it][1].keys():\n",
    "            lastout=g[it][1]['out_features']\n",
    "        it+=1\n",
    "    while it2 > r1:\n",
    "        if 'in_features' in g[it2][1].keys():\n",
    "            earliestin=g[it2][1]['in_features']\n",
    "        it2-=1\n",
    "    \n",
    "    layer_choice = random.choice(layers_and_activations)\n",
    "    layer_name, layer_params = select_random_params(layer_choice)\n",
    "    layer_params_dict = dict(layer_params) \n",
    "    \n",
    "    if layer_name == 'Linear':\n",
    "        layer_params_dict = {'in_features': lastout, 'out_features': earliestin}\n",
    "    elif layer_name in ['BatchNorm1d']:\n",
    "        layer_params_dict = {'num_features': lastout}\n",
    "    elif layer_name in ['LayerNorm']:\n",
    "        layer_params_dict = {'normalized_shape': lastout}\n",
    "    \n",
    "\n",
    "def mutateoptimizer(opt, mp):\n",
    "    g = opt.genotype\n",
    "    \n",
    "    #the size is the number of elements that exist for a given optimizer \n",
    "    #(1 is the name, the len of g[1] is the size of the dict)\n",
    "    size = 1 + len(g[1]) \n",
    "    r1 = random.randint(0, size-1)\n",
    "    rand_par = random.choice(list(g[1]))\n",
    "    \n",
    "    if r1 == 0:\n",
    "        opt.set_random_genotype(opt)\n",
    "    elif rand_par == 'betas':\n",
    "        beta1 = random.uniform(0.9, 0.999)\n",
    "        beta2 = random.uniform(0.8, 0.99)\n",
    "        g[1][rand_par] = (beta1, beta2)\n",
    "    elif rand_par == 'nesterov':\n",
    "        g[1][rand_par] = random.choice([True, False])   \n",
    "    elif rand_par == 'rho':\n",
    "        g[1][rand_par] = random.uniform(0.9, 0.99)\n",
    "    elif rand_par == 'momentum':\n",
    "        g[1][rand_par] = random.uniform(0.5, 0.99)\n",
    "    elif rand_par == 'momentum_decay':\n",
    "        g[1][rand_par] = random.uniform(0.003, 0.005)\n",
    "    else:\n",
    "        g[1][rand_par] = 10 ** random.uniform(-3,1)\n",
    "        g[1][rand_par] = round(g[1][rand_par], 6)\n",
    "    opt.genotype_to_phenotype(opt,mp)\n",
    "    \n",
    "def crossover(indiv1, indiv2):\n",
    "    g1 = indiv1.genotype\n",
    "    g2 = indiv2.genotype\n",
    "      \n",
    "    crossover_point1 = random.randrange(1, len(g1)-1)\n",
    "    crossover_point2 = random.randrange(1, len(g2)-1)\n",
    "    \n",
    "    newg1=[]\n",
    "    newg1.append(g1[0])\n",
    "    newg1+=g1[1:crossover_point1]+g2[crossover_point2:(len(g2)-1)]\n",
    "    newg1.append(g1[len(g1)-1])\n",
    "    \n",
    "    newg2=[]\n",
    "    newg2.append(g2[0])\n",
    "    newg2+=g2[1:crossover_point2]+g1[crossover_point1:(len(g1)-1)]\n",
    "    newg2.append(g2[len(g2)-1])    \n",
    "\n",
    "    #####Contigency for crossover of newg1\n",
    "    \n",
    "    #Cycle for making sure the input of the first layer after crossover's has the output of the last output before crossover\n",
    "    it=0\n",
    "    while it < crossover_point1:\n",
    "        if 'out_features' in newg1[it][1].keys():\n",
    "            lastout=newg1[it][1]['out_features']\n",
    "        it+=1\n",
    "    it2=crossover_point1\n",
    "    while it2 < len(newg1)-1:\n",
    "        if 'in_features' in newg1[it2][1].keys():\n",
    "            break\n",
    "        elif ('num_features' in newg1[it2][1].keys()) or ('normalized_shape' in newg1[it2][1].keys()):\n",
    "                if 'num_features' in newg1[it2][1].keys():\n",
    "                    newg1[it2][1]['num_features']=lastout\n",
    "                elif 'normalized_shape' in newg1[it2][1].keys():\n",
    "                    newg1[it2][1]['normalized_shape']=lastout\n",
    "        it2+=1\n",
    "    \n",
    "    if 'in_features' in newg1[it2][1].keys():\n",
    "        newg1[it2][1]['in_features']=lastout\n",
    "    elif 'num_features' in newg1[it2][1].keys():\n",
    "        newg1[it2][1]['num_features']=lastout\n",
    "    else:\n",
    "        newg1[it2][1]['normalized_shape']=lastout\n",
    "    \n",
    "    #Cycle for making sure the input after the last layer of crossover's output is the same\n",
    "       \n",
    "    it=0\n",
    "    while it < len(newg1)-1:\n",
    "        if 'out_features' in newg1[it][1].keys():\n",
    "            lastout2=newg1[it][1]['out_features']\n",
    "        it+=1\n",
    "    newg1[len(newg1)-1][1]['in_features']=lastout2\n",
    "    \n",
    "    #####Contigency for crossover of newg2\n",
    "    it=0\n",
    "    while it < len(newg2)-1:\n",
    "        if 'out_features' in newg2[it][1].keys():\n",
    "            lastout3=newg2[it][1]['out_features']\n",
    "        it+=1\n",
    "    newg2[len(newg2)-1][1]['in_features']=lastout3\n",
    "\n",
    "    it=0\n",
    "    while it < crossover_point2:\n",
    "        if 'out_features' in newg2[it][1].keys():\n",
    "            lastout4=newg2[it][1]['out_features']\n",
    "        it+=1\n",
    "    it2 = crossover_point2\n",
    "    while it2 < len(newg2)-1 :\n",
    "        if ('in_features' in newg2[it2][1].keys()):\n",
    "            break\n",
    "        elif ('num_features' in newg2[it2][1].keys()) or ('normalized_shape' in newg2[it2][1].keys()):\n",
    "            if 'num_features' in newg2[it2][1].keys():\n",
    "                newg2[it2][1]['num_features']=lastout4\n",
    "            elif 'normalized_shape' in newg2[it2][1].keys():\n",
    "                newg2[it2][1]['normalized_shape']=lastout4\n",
    "        it2+=1\n",
    "    \n",
    "    if 'in_features' in newg2[it2][1].keys():\n",
    "        newg2[it2][1]['in_features']=lastout4\n",
    "    elif 'num_features' in newg2[it2][1].keys():\n",
    "        newg2[it2][1]['num_features']=lastout4\n",
    "    else:\n",
    "        newg2[it2][1]['normalized_shape']=lastout4\n",
    "            \n",
    "    indiv1.set_genotype(newg1)\n",
    "    indiv2.set_genotype(newg2)\n",
    "    \n",
    "    indiv1.genotype_to_phenotype(indiv1.genotype)\n",
    "    indiv2.genotype_to_phenotype(indiv2.genotype)"
   ]
  },
  {
   "cell_type": "markdown",
   "id": "a2d91d04",
   "metadata": {
    "id": "a2d91d04"
   },
   "source": [
    "## Experimental setup"
   ]
  },
  {
   "cell_type": "markdown",
   "id": "468e5e8e",
   "metadata": {
    "id": "468e5e8e"
   },
   "source": [
    "### Initializing a population of Deep Networks and associated Optimizers"
   ]
  },
  {
   "cell_type": "code",
   "execution_count": 9,
   "id": "b912d8c0",
   "metadata": {
    "id": "b912d8c0"
   },
   "outputs": [],
   "source": [
    "def initialize_population(genotype=None, phenotype=None):\n",
    "    return ([DeepNetwork(None,None) for _ in range(5)])\n",
    "\n",
    "def initialize_pop_op():\n",
    "    return ([DeepOptimizer for _ in range(5)])\n",
    "\n",
    "def weight_reset(m):\n",
    "    if isinstance(m, nn.Conv2d) or isinstance(m, nn.Linear):\n",
    "        m.reset_parameters()\n",
    "\n",
    "\n",
    "\n",
    "pop=initialize_population(None, None)\n",
    "pop_op=initialize_pop_op()\n",
    "\n",
    "iter=0\n",
    "for i in pop:\n",
    "    i.generate_random_genotype(28*28,10)\n",
    "    i.genotype_to_phenotype(i.genotype)\n",
    "    abc=i.phenotype.parameters()\n",
    "    indiv=pop_op[iter]\n",
    "    indiv.set_random_genotype(indiv)\n",
    "    indiv.genotype_to_phenotype(indiv, abc)\n",
    "    iter+=1\n"
   ]
  },
  {
   "cell_type": "code",
   "execution_count": null,
   "id": "3819b494",
   "metadata": {},
   "outputs": [],
   "source": [
    "#Plotting the accuracies before applying the genetic operators"
   ]
  },
  {
   "cell_type": "code",
   "execution_count": 10,
   "id": "GQG9oq1S1yET",
   "metadata": {
    "colab": {
     "base_uri": "https://localhost:8080/",
     "height": 574
    },
    "id": "GQG9oq1S1yET",
    "outputId": "0b936f00-219c-4040-d535-6752caafb34c"
   },
   "outputs": [
    {
     "name": "stdout",
     "output_type": "stream",
     "text": [
      "Model 0 Epoch 0  Accuracy 0.1244\n",
      "Model 1 Epoch 0  Accuracy 0.1020\n",
      "Model 2 Epoch 0  Accuracy 0.1017\n",
      "Model 3 Epoch 0  Accuracy 0.1001\n",
      "Model 4 Epoch 0  Accuracy 0.1004\n"
     ]
    },
    {
     "data": {
      "image/png": "[encoded data removed]",
      "text/plain": [
       "<Figure size 1000x500 with 1 Axes>"
      ]
     },
     "metadata": {},
     "output_type": "display_data"
    }
   ],
   "source": [
    "import matplotlib.pyplot as plt\n",
    "\n",
    "loss_fn = nn.CrossEntropyLoss()\n",
    "num_epochs = 50\n",
    "\n",
    "# Initialize accuracy history for each model\n",
    "accuracy_hist = {i: [] for i in range(len(pop))}\n",
    "\n",
    "for model_index in range(len(pop)):\n",
    "    model = pop[model_index].phenotype\n",
    "    optimizer = pop_op[model_index].phenotype\n",
    "    for epoch in range(num_epochs):\n",
    "        accuracy_hist_train = 0\n",
    "        for x_batch, y_batch in train_loader:\n",
    "            x_batch = x_batch.view(x_batch.size(0), -1)  # flatten the input\n",
    "            pred = model(x_batch)\n",
    "            loss = loss_fn(pred, y_batch)\n",
    "            loss.backward()\n",
    "            optimizer.step()\n",
    "            optimizer.zero_grad()\n",
    "            is_correct = (torch.argmax(pred, dim=1) == y_batch).float()\n",
    "            accuracy_hist_train += is_correct.sum()\n",
    "        accuracy_hist_train /= len(train_loader.dataset)\n",
    "        accuracy_hist[model_index].append(accuracy_hist_train)  # Save accuracy for this epoch\n",
    "        print(f'Model {model_index} Epoch {epoch}  Accuracy {accuracy_hist_train:.4f}')\n",
    "\n",
    "# Plot accuracy per epoch for each model\n",
    "plt.figure(figsize=(10,5))\n",
    "for model_index in range(len(pop)):\n",
    "    plt.plot(accuracy_hist[model_index], label=f'Train Accuracy Model {model_index}')\n",
    "plt.xlabel('Epochs')\n",
    "plt.ylabel('Accuracy')\n",
    "plt.title('Accuracy per epoch for each model')\n",
    "plt.legend()\n",
    "plt.show()\n"
   ]
  },
  {
   "cell_type": "code",
   "execution_count": 11,
   "id": "e4a8e90f",
   "metadata": {
    "id": "e4a8e90f"
   },
   "outputs": [],
   "source": [
    "### Performing the crossover on 2 parents, mutating one optimizer, removing a layer in a third network and adding a layer in a forth\n",
    "crossover(pop[0], pop[1])\n",
    "mutateoptimizer(pop_op[0], pop[0].phenotype.parameters())\n",
    "removelayer(pop[2])\n",
    "addlayer(pop[3])"
   ]
  },
  {
   "cell_type": "code",
   "execution_count": null,
   "id": "74533980",
   "metadata": {},
   "outputs": [],
   "source": [
    "#Plotting the accuracies after applying the genetic operators"
   ]
  },
  {
   "cell_type": "code",
   "execution_count": 21,
   "id": "122dc13b",
   "metadata": {
    "colab": {
     "base_uri": "https://localhost:8080/",
     "height": 574
    },
    "id": "122dc13b",
    "outputId": "9b289c9e-6996-4699-b68f-d3c0aba77572"
   },
   "outputs": [
    {
     "name": "stdout",
     "output_type": "stream",
     "text": [
      "Model 0 Epoch 0  Accuracy 0.9010\n",
      "Model 0 Epoch 1  Accuracy 0.9268\n",
      "Model 0 Epoch 2  Accuracy 0.9348\n"
     ]
    },
    {
     "name": "stderr",
     "output_type": "stream",
     "text": [
      "\n",
      "KeyboardInterrupt\n",
      "\n"
     ]
    }
   ],
   "source": [
    "import matplotlib.pyplot as plt\n",
    "\n",
    "loss_fn = nn.CrossEntropyLoss()\n",
    "num_epochs = 50\n",
    "\n",
    "# Initializing the accuracy history\n",
    "accuracy_hist = {i: [] for i in range(len(pop))}\n",
    "\n",
    "for model_index in range(len(pop)):\n",
    "    model = pop[model_index].phenotype\n",
    "    model.apply(weight_reset)\n",
    "    optimizer = pop_op[model_index].phenotype\n",
    "    for epoch in range(num_epochs):\n",
    "        accuracy_hist_train = 0\n",
    "        for x_batch, y_batch in train_loader:\n",
    "            x_batch = x_batch.view(x_batch.size(0), -1)\n",
    "            pred = model(x_batch)\n",
    "            loss = loss_fn(pred, y_batch)\n",
    "            loss.backward()\n",
    "            optimizer.step()\n",
    "            optimizer.zero_grad()\n",
    "            is_correct = (torch.argmax(pred, dim=1) == y_batch).float()\n",
    "            accuracy_hist_train += is_correct.sum()\n",
    "        accuracy_hist_train /= len(train_loader.dataset)\n",
    "        accuracy_hist[model_index].append(accuracy_hist_train)\n",
    "        print(f'Model {model_index} Epoch {epoch}  Accuracy {accuracy_hist_train:.4f}')\n",
    "\n",
    "# Plotting the accuracies\n",
    "plt.figure(figsize=(10,5))\n",
    "for model_index in range(len(pop)):\n",
    "    plt.plot(accuracy_hist[model_index], label=f'Train Accuracy Model {model_index}')\n",
    "plt.xlabel('Epochs')\n",
    "plt.ylabel('Accuracy')\n",
    "plt.title('Accuracy per epoch for each model')\n",
    "plt.legend()\n",
    "plt.show()\n"
   ]
  }
 ],
 "metadata": {
  "colab": {
   "provenance": []
  },
  "kernelspec": {
   "display_name": "Python 3 (ipykernel)",
   "language": "python",
   "name": "python3"
  },
  "language_info": {
   "codemirror_mode": {
    "name": "ipython",
    "version": 3
   },
   "file_extension": ".py",
   "mimetype": "text/x-python",
   "name": "python",
   "nbconvert_exporter": "python",
   "pygments_lexer": "ipython3",
   "version": "3.10.9"
  }
 },
 "nbformat": 4,
 "nbformat_minor": 5
}
